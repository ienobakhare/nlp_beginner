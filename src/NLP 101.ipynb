{
 "cells": [
  {
   "cell_type": "markdown",
   "metadata": {},
   "source": [
    "# NLP 101"
   ]
  },
  {
   "cell_type": "code",
   "execution_count": 2,
   "metadata": {
    "scrolled": false
   },
   "outputs": [
    {
     "name": "stdout",
     "output_type": "stream",
     "text": [
      "Requirement already satisfied: textblob in c:\\users\\grooney\\anaconda3\\lib\\site-packages (0.15.3)\n",
      "Requirement already satisfied: nltk in c:\\users\\grooney\\anaconda3\\lib\\site-packages (3.4.5)\n",
      "Requirement already satisfied: seaborn in c:\\users\\grooney\\anaconda3\\lib\\site-packages (0.10.0)\n",
      "Requirement already satisfied: pandas in c:\\users\\grooney\\anaconda3\\lib\\site-packages (1.0.1)\n"
     ]
    },
    {
     "name": "stderr",
     "output_type": "stream",
     "text": [
      "ERROR: Could not find a version that satisfies the requirement os (from versions: none)\n",
      "ERROR: No matching distribution found for os\n"
     ]
    }
   ],
   "source": [
    "!pip install textblob nltk seaborn pandas"
   ]
  },
  {
   "cell_type": "code",
   "execution_count": 3,
   "metadata": {
    "ExecuteTime": {
     "end_time": "2019-02-01T22:52:28.159044Z",
     "start_time": "2019-02-01T22:52:28.156036Z"
    }
   },
   "outputs": [
    {
     "name": "stderr",
     "output_type": "stream",
     "text": [
      "[nltk_data] Downloading package punkt to\n",
      "[nltk_data]     C:\\Users\\grooney\\AppData\\Roaming\\nltk_data...\n",
      "[nltk_data]   Package punkt is already up-to-date!\n",
      "[nltk_data] Downloading package wordnet to\n",
      "[nltk_data]     C:\\Users\\grooney\\AppData\\Roaming\\nltk_data...\n",
      "[nltk_data]   Package wordnet is already up-to-date!\n",
      "[nltk_data] Downloading package averaged_perceptron_tagger to\n",
      "[nltk_data]     C:\\Users\\grooney\\AppData\\Roaming\\nltk_data...\n",
      "[nltk_data]   Package averaged_perceptron_tagger is already up-to-\n",
      "[nltk_data]       date!\n",
      "[nltk_data] Downloading package vader_lexicon to\n",
      "[nltk_data]     C:\\Users\\grooney\\AppData\\Roaming\\nltk_data...\n",
      "[nltk_data]   Package vader_lexicon is already up-to-date!\n"
     ]
    },
    {
     "data": {
      "text/plain": [
       "True"
      ]
     },
     "execution_count": 3,
     "metadata": {},
     "output_type": "execute_result"
    }
   ],
   "source": [
    "# import packages\n",
    "import os\n",
    "import pandas as pd\n",
    "import nltk\n",
    "from nltk.corpus import stopwords\n",
    "from nltk.corpus import cmudict\n",
    "from nltk.tokenize import word_tokenize\n",
    "from nltk.tokenize import sent_tokenize\n",
    "from nltk.stem import PorterStemmer\n",
    "from nltk.stem.wordnet import WordNetLemmatizer\n",
    "from nltk import pos_tag\n",
    "import re\n",
    "from textblob import TextBlob\n",
    "import string\n",
    "import seaborn as sns\n",
    "import matplotlib.pyplot as plt\n",
    "nltk.download('punkt')\n",
    "nltk.download('wordnet')\n",
    "nltk.download('averaged_perceptron_tagger')\n",
    "nltk.download('vader_lexicon')"
   ]
  },
  {
   "cell_type": "code",
   "execution_count": 4,
   "metadata": {
    "ExecuteTime": {
     "end_time": "2019-02-01T22:51:29.649009Z",
     "start_time": "2019-02-01T22:51:29.637980Z"
    }
   },
   "outputs": [
    {
     "data": {
      "text/plain": [
       "'C:\\\\Users\\\\grooney\\\\Desktop\\\\Initiatives\\\\AU\\\\nlp_101'"
      ]
     },
     "execution_count": 4,
     "metadata": {},
     "output_type": "execute_result"
    }
   ],
   "source": [
    "# check our working directory\n",
    "os.getcwd()"
   ]
  },
  {
   "cell_type": "code",
   "execution_count": null,
   "metadata": {},
   "outputs": [],
   "source": [
    "#set our working directory to where our files are located\n",
    "##os.chdir('C:\\\\PATH\\\\PATH\\\\PATH\\\\')"
   ]
  },
  {
   "cell_type": "markdown",
   "metadata": {},
   "source": [
    "## Yelp Reviews"
   ]
  },
  {
   "cell_type": "code",
   "execution_count": 5,
   "metadata": {},
   "outputs": [
    {
     "name": "stdout",
     "output_type": "stream",
     "text": [
      " Volume in drive C is OSDisk\n",
      " Volume Serial Number is 0669-F93C\n",
      "\n",
      " Directory of C:\\Users\\grooney\\Desktop\\Initiatives\\AU\\nlp_101\n",
      "\n",
      "07/24/2020  12:39 PM    <DIR>          .\n",
      "07/24/2020  12:39 PM    <DIR>          ..\n",
      "07/24/2020  06:36 AM    <DIR>          .ipynb_checkpoints\n",
      "04/30/2019  02:54 PM             2,048 literature.csv\n",
      "07/24/2020  12:39 PM            28,714 NLP 101.ipynb\n",
      "07/24/2020  06:25 AM        10,750,489 NLP 101.pptx\n",
      "07/24/2020  06:36 AM            25,693 NLP 101-key.ipynb\n",
      "04/30/2019  02:54 PM         1,606,396 yelp.csv\n",
      "               5 File(s)     12,413,340 bytes\n",
      "               3 Dir(s)  254,526,062,592 bytes free\n"
     ]
    }
   ],
   "source": [
    "%ls"
   ]
  },
  {
   "cell_type": "code",
   "execution_count": 6,
   "metadata": {
    "ExecuteTime": {
     "end_time": "2019-02-01T23:07:30.909758Z",
     "start_time": "2019-02-01T23:07:30.872662Z"
    }
   },
   "outputs": [],
   "source": [
    "# create dataframe from Yelp reviews file\n",
    "df = pd.read_csv('yelp.csv')"
   ]
  },
  {
   "cell_type": "code",
   "execution_count": 7,
   "metadata": {
    "ExecuteTime": {
     "end_time": "2019-02-01T23:07:31.294593Z",
     "start_time": "2019-02-01T23:07:31.279555Z"
    }
   },
   "outputs": [
    {
     "name": "stdout",
     "output_type": "stream",
     "text": [
      "             stars         cool       useful        funny\n",
      "count  2000.000000  2000.000000  2000.000000  2000.000000\n",
      "mean      3.774000     0.908000     1.443000     0.747500\n",
      "std       1.229504     2.021529     2.319793     2.143138\n",
      "min       1.000000     0.000000     0.000000     0.000000\n",
      "25%       3.000000     0.000000     0.000000     0.000000\n",
      "50%       4.000000     0.000000     1.000000     0.000000\n",
      "75%       5.000000     1.000000     2.000000     1.000000\n",
      "max       5.000000    28.000000    28.000000    39.000000\n",
      "Index(['business_id', 'date', 'review_id', 'stars', 'text', 'type', 'user_id',\n",
      "       'cool', 'useful', 'funny'],\n",
      "      dtype='object')\n"
     ]
    }
   ],
   "source": [
    "# inspect the file\n",
    "print(df.describe())\n",
    "print(df.columns)"
   ]
  },
  {
   "cell_type": "code",
   "execution_count": 8,
   "metadata": {
    "ExecuteTime": {
     "end_time": "2019-02-01T23:07:31.933024Z",
     "start_time": "2019-02-01T23:07:31.927007Z"
    },
    "scrolled": true
   },
   "outputs": [],
   "source": [
    "# select column with the review text from dataframe and turn into a list\n",
    "corpora = df['text'].tolist()"
   ]
  },
  {
   "cell_type": "code",
   "execution_count": 10,
   "metadata": {
    "ExecuteTime": {
     "end_time": "2019-02-01T23:07:39.585179Z",
     "start_time": "2019-02-01T23:07:39.567142Z"
    },
    "scrolled": true
   },
   "outputs": [
    {
     "name": "stdout",
     "output_type": "stream",
     "text": [
      "My wife took me here on my birthday for breakfast and it was excellent.  The weather was perfect which made sitting outside overlooking their grounds an absolute pleasure.  Our waitress was excellent and our food arrived quickly on the semi-busy Saturday morning.  It looked like the place fills up pretty quickly so the earlier you get here the better.\n",
      "\n",
      "Do yourself a favor and get their Bloody Mary.  It was phenomenal and simply the best I've ever had.  I'm pretty sure they only use ingredients from their garden and blend them fresh when you order it.  It was amazing.\n",
      "\n",
      "While EVERYTHING on the menu looks excellent, I had the white truffle scrambled eggs vegetable skillet and it was tasty and delicious.  It came with 2 pieces of their griddled bread with was amazing and it absolutely made the meal complete.  It was the best \"toast\" I've ever had.\n",
      "\n",
      "Anyway, I can't wait to go back!\n"
     ]
    }
   ],
   "source": [
    "# view the first review\n",
    "print(corpora[0])"
   ]
  },
  {
   "cell_type": "code",
   "execution_count": 11,
   "metadata": {},
   "outputs": [
    {
     "data": {
      "text/plain": [
       "'My wife took me here on my birthday for breakfast and it was excellent.  The weather was perfect which made sitting outside overlooking their grounds an absolute pleasure.  Our waitress was excellent and our food arrived quickly on the semi-busy Saturday morning.  It looked like the place fills up pretty quickly so the earlier you get here the better.\\n\\nDo yourself a favor and get their Bloody Mary.  It was phenomenal and simply the best I\\'ve ever had.  I\\'m pretty sure they only use ingredients from their garden and blend them fresh when you order it.  It was amazing.\\n\\nWhile EVERYTHING on the menu looks excellent, I had the white truffle scrambled eggs vegetable skillet and it was tasty and delicious.  It came with 2 pieces of their griddled bread with was amazing and it absolutely made the meal complete.  It was the best \"toast\" I\\'ve ever had.\\n\\nAnyway, I can\\'t wait to go back!'"
      ]
     },
     "execution_count": 11,
     "metadata": {},
     "output_type": "execute_result"
    }
   ],
   "source": [
    "corpora[0]"
   ]
  },
  {
   "cell_type": "code",
   "execution_count": 12,
   "metadata": {},
   "outputs": [],
   "source": [
    "# set exhibit to the first review\n",
    "exhibit = corpora[0]"
   ]
  },
  {
   "cell_type": "markdown",
   "metadata": {},
   "source": [
    "### Pre-processing: Cleaning"
   ]
  },
  {
   "cell_type": "code",
   "execution_count": 13,
   "metadata": {},
   "outputs": [
    {
     "data": {
      "text/plain": [
       "'my wife took me here on my birthday for breakfast and it was excellent. the weather was perfect which made sitting outside overlooking their grounds an absolute pleasure. our waitress was excellent and our food arrived quickly on the semi-busy saturday morning. it looked like the place fills up pretty quickly so the earlier you get here the better. do yourself a favor and get their bloody mary. it was phenomenal and simply the best i\\'ve ever had. i\\'m pretty sure they only use ingredients from their garden and blend them fresh when you order it. it was amazing. while everything on the menu looks excellent, i had the white truffle scrambled eggs vegetable skillet and it was tasty and delicious. it came with 2 pieces of their griddled bread with was amazing and it absolutely made the meal complete. it was the best \"toast\" i\\'ve ever had. anyway, i can\\'t wait to go back!'"
      ]
     },
     "execution_count": 13,
     "metadata": {},
     "output_type": "execute_result"
    }
   ],
   "source": [
    "# lower case\n",
    "docClean = \" \".join(x.lower() for x in exhibit.split())\n",
    "docClean"
   ]
  },
  {
   "cell_type": "code",
   "execution_count": 14,
   "metadata": {
    "ExecuteTime": {
     "end_time": "2019-02-01T23:07:39.610246Z",
     "start_time": "2019-02-01T23:07:39.587184Z"
    }
   },
   "outputs": [
    {
     "data": {
      "text/plain": [
       "'my wife took me here on my birthday for breakfast and it was excellent. the weather was perfect which made sitting outside overlooking their grounds an absolute pleasure. our waitress was excellent and our food arrived quickly on the semi-busy saturday morning. it looked like the place fills up pretty quickly so the earlier you get here the better. do yourself a favor and get their bloody mary. it was phenomenal and simply the best i\\'ve ever had. i\\'m pretty sure they only use ingredients from their garden and blend them fresh when you order it. it was amazing. while everything on the menu looks excellent, i had the white truffle scrambled eggs vegetable skillet and it was tasty and delicious. it came with  pieces of their griddled bread with was amazing and it absolutely made the meal complete. it was the best \"toast\" i\\'ve ever had. anyway, i can\\'t wait to go back!'"
      ]
     },
     "execution_count": 14,
     "metadata": {},
     "output_type": "execute_result"
    }
   ],
   "source": [
    "# remove numbers\n",
    "docClean = re.sub('[0-9]', '', docClean).strip()\n",
    "docClean\n",
    "\n"
   ]
  },
  {
   "cell_type": "code",
   "execution_count": 15,
   "metadata": {},
   "outputs": [
    {
     "data": {
      "text/plain": [
       "'my wife took me here on my birthday for breakfast and it was excellent. the weather was perfect which made sitting outside overlooking their grounds an absolute pleasure. our waitress was excellent and our food arrived quickly on the semi-busy saturday morning. it looked like the place fills up pretty quickly so the earlier you get here the better. do yourself a favor and get their bloody mary. it was phenomenal and simply the best i\\'ve ever had. i\\'m pretty sure they only use ingredients from their garden and blend them fresh when you order it. it was amazing. while everything on the menu looks excellent, i had the white truffle scrambled eggs vegetable skillet and it was tasty and delicious. it came with pieces of their griddled bread with was amazing and it absolutely made the meal complete. it was the best \"toast\" i\\'ve ever had. anyway, i can\\'t wait to go back!'"
      ]
     },
     "execution_count": 15,
     "metadata": {},
     "output_type": "execute_result"
    }
   ],
   "source": [
    "docClean = re.sub('  ', ' ', docClean).strip()\n",
    "docClean"
   ]
  },
  {
   "cell_type": "markdown",
   "metadata": {},
   "source": [
    "### Pre-processing: Contractions"
   ]
  },
  {
   "cell_type": "code",
   "execution_count": 16,
   "metadata": {},
   "outputs": [],
   "source": [
    "contractions_dict = {'didn\\'t': 'did not','don\\'t': 'do not',\n",
    "                     'wouldn\\'t': 'would not', 'won\\'t': 'will not',\n",
    "                    'can\\'t': 'cannot', 'i\\'ve': 'i have', 'i\\'m': 'i am'}\n",
    "def expand_contractions(s, contractions_dict=contractions_dict):\n",
    "    #import re\n",
    "    contractions_re = re.compile('(%s)' % '|'.join(contractions_dict.keys()))\n",
    "    \n",
    "    return contractions_re.sub(replace, s)\n",
    "\n",
    "def replace(match):\n",
    "    return contractions_dict[match.group(0)]"
   ]
  },
  {
   "cell_type": "code",
   "execution_count": 17,
   "metadata": {},
   "outputs": [
    {
     "data": {
      "text/plain": [
       "'will not'"
      ]
     },
     "execution_count": 17,
     "metadata": {},
     "output_type": "execute_result"
    }
   ],
   "source": [
    "expand_contractions('won\\'t')"
   ]
  },
  {
   "cell_type": "code",
   "execution_count": 18,
   "metadata": {},
   "outputs": [],
   "source": [
    "docClean = expand_contractions(docClean)"
   ]
  },
  {
   "cell_type": "code",
   "execution_count": 19,
   "metadata": {},
   "outputs": [
    {
     "data": {
      "text/plain": [
       "'my wife took me here on my birthday for breakfast and it was excellent. the weather was perfect which made sitting outside overlooking their grounds an absolute pleasure. our waitress was excellent and our food arrived quickly on the semi-busy saturday morning. it looked like the place fills up pretty quickly so the earlier you get here the better. do yourself a favor and get their bloody mary. it was phenomenal and simply the best i have ever had. i am pretty sure they only use ingredients from their garden and blend them fresh when you order it. it was amazing. while everything on the menu looks excellent, i had the white truffle scrambled eggs vegetable skillet and it was tasty and delicious. it came with pieces of their griddled bread with was amazing and it absolutely made the meal complete. it was the best \"toast\" i have ever had. anyway, i cannot wait to go back!'"
      ]
     },
     "execution_count": 19,
     "metadata": {},
     "output_type": "execute_result"
    }
   ],
   "source": [
    "docClean"
   ]
  },
  {
   "cell_type": "markdown",
   "metadata": {},
   "source": [
    "### Pre-processing: Tokenization"
   ]
  },
  {
   "cell_type": "code",
   "execution_count": 20,
   "metadata": {},
   "outputs": [
    {
     "data": {
      "text/plain": [
       "['my wife took me here on my birthday for breakfast and it was excellent.',\n",
       " 'the weather was perfect which made sitting outside overlooking their grounds an absolute pleasure.',\n",
       " 'our waitress was excellent and our food arrived quickly on the semi-busy saturday morning.']"
      ]
     },
     "execution_count": 20,
     "metadata": {},
     "output_type": "execute_result"
    }
   ],
   "source": [
    "#tokenize into sentences\n",
    "#from nltk.tokenize import sent_tokenize\n",
    "sentences = sent_tokenize(docClean)\n",
    "sentences[0:3]"
   ]
  },
  {
   "cell_type": "code",
   "execution_count": 21,
   "metadata": {},
   "outputs": [
    {
     "data": {
      "text/plain": [
       "['my',\n",
       " 'wife',\n",
       " 'took',\n",
       " 'me',\n",
       " 'here',\n",
       " 'on',\n",
       " 'my',\n",
       " 'birthday',\n",
       " 'for',\n",
       " 'breakfast']"
      ]
     },
     "execution_count": 21,
     "metadata": {},
     "output_type": "execute_result"
    }
   ],
   "source": [
    "#tokenize into words\n",
    "#from nltk.tokenize import word_tokenize\n",
    "words = word_tokenize(docClean)\n",
    "words[:10]"
   ]
  },
  {
   "cell_type": "markdown",
   "metadata": {
    "ExecuteTime": {
     "end_time": "2019-02-01T23:07:39.922075Z",
     "start_time": "2019-02-01T23:07:39.706501Z"
    }
   },
   "source": [
    "### Pre-processing: Stop Words"
   ]
  },
  {
   "cell_type": "code",
   "execution_count": 22,
   "metadata": {},
   "outputs": [],
   "source": [
    "#from nltk.corpus import stopwords\n",
    "stopWords = list(set(stopwords.words('english')))"
   ]
  },
  {
   "cell_type": "code",
   "execution_count": 23,
   "metadata": {},
   "outputs": [
    {
     "data": {
      "text/plain": [
       "['couldn', 'no', 'few', 'some', 'an', 'am', 'be', 'should', 'his', 'd']"
      ]
     },
     "execution_count": 23,
     "metadata": {},
     "output_type": "execute_result"
    }
   ],
   "source": [
    "stopWords[:10]"
   ]
  },
  {
   "cell_type": "code",
   "execution_count": 24,
   "metadata": {},
   "outputs": [
    {
     "data": {
      "text/plain": [
       "['wife', 'took', 'birthday', 'breakfast', 'excellent']"
      ]
     },
     "execution_count": 24,
     "metadata": {},
     "output_type": "execute_result"
    }
   ],
   "source": [
    "#customize stop word list\n",
    "stopWords.append('food')\n",
    "\n",
    "#remove stop words from text\n",
    "cleanWords = [w for w in words if not w in stopWords]\n",
    "cleanWords[0:5]"
   ]
  },
  {
   "cell_type": "markdown",
   "metadata": {},
   "source": [
    "### Pre-processing: Special Characters & Punctuation"
   ]
  },
  {
   "cell_type": "code",
   "execution_count": 25,
   "metadata": {
    "ExecuteTime": {
     "end_time": "2019-02-01T23:07:39.644336Z",
     "start_time": "2019-02-01T23:07:39.612250Z"
    }
   },
   "outputs": [
    {
     "data": {
      "text/plain": [
       "['ever', 'anyway', 'wait', 'go', 'back']"
      ]
     },
     "execution_count": 25,
     "metadata": {},
     "output_type": "execute_result"
    }
   ],
   "source": [
    "# special characters\n",
    "cleanWords = [w for w in cleanWords if re.search('^[a-zA-Z]+', w)]\n",
    "cleanWords[-5:]"
   ]
  },
  {
   "cell_type": "code",
   "execution_count": 26,
   "metadata": {},
   "outputs": [
    {
     "data": {
      "text/plain": [
       "['ever', 'anyway', 'wait', 'go', 'back']"
      ]
     },
     "execution_count": 26,
     "metadata": {},
     "output_type": "execute_result"
    }
   ],
   "source": [
    "# remove punctuation\n",
    "#import string\n",
    "cleanWords = list(map(lambda x: x.translate(str.maketrans('', '', string.punctuation)), cleanWords))\n",
    "cleanWords[-5:]"
   ]
  },
  {
   "cell_type": "markdown",
   "metadata": {},
   "source": [
    "### Checkpoint: Difference between Raw and Clean Words"
   ]
  },
  {
   "cell_type": "code",
   "execution_count": 28,
   "metadata": {},
   "outputs": [
    {
     "data": {
      "text/html": [
       "<div>\n",
       "<style scoped>\n",
       "    .dataframe tbody tr th:only-of-type {\n",
       "        vertical-align: middle;\n",
       "    }\n",
       "\n",
       "    .dataframe tbody tr th {\n",
       "        vertical-align: top;\n",
       "    }\n",
       "\n",
       "    .dataframe thead th {\n",
       "        text-align: right;\n",
       "    }\n",
       "</style>\n",
       "<table border=\"1\" class=\"dataframe\">\n",
       "  <thead>\n",
       "    <tr style=\"text-align: right;\">\n",
       "      <th></th>\n",
       "      <th>rawWords</th>\n",
       "      <th>cleanWords</th>\n",
       "    </tr>\n",
       "  </thead>\n",
       "  <tbody>\n",
       "    <tr>\n",
       "      <th>0</th>\n",
       "      <td>my</td>\n",
       "      <td>wife</td>\n",
       "    </tr>\n",
       "    <tr>\n",
       "      <th>1</th>\n",
       "      <td>wife</td>\n",
       "      <td>took</td>\n",
       "    </tr>\n",
       "    <tr>\n",
       "      <th>2</th>\n",
       "      <td>took</td>\n",
       "      <td>birthday</td>\n",
       "    </tr>\n",
       "    <tr>\n",
       "      <th>3</th>\n",
       "      <td>me</td>\n",
       "      <td>breakfast</td>\n",
       "    </tr>\n",
       "    <tr>\n",
       "      <th>4</th>\n",
       "      <td>here</td>\n",
       "      <td>excellent</td>\n",
       "    </tr>\n",
       "    <tr>\n",
       "      <th>5</th>\n",
       "      <td>on</td>\n",
       "      <td>weather</td>\n",
       "    </tr>\n",
       "    <tr>\n",
       "      <th>6</th>\n",
       "      <td>my</td>\n",
       "      <td>perfect</td>\n",
       "    </tr>\n",
       "    <tr>\n",
       "      <th>7</th>\n",
       "      <td>birthday</td>\n",
       "      <td>made</td>\n",
       "    </tr>\n",
       "    <tr>\n",
       "      <th>8</th>\n",
       "      <td>for</td>\n",
       "      <td>sitting</td>\n",
       "    </tr>\n",
       "    <tr>\n",
       "      <th>9</th>\n",
       "      <td>breakfast</td>\n",
       "      <td>outside</td>\n",
       "    </tr>\n",
       "    <tr>\n",
       "      <th>10</th>\n",
       "      <td>and</td>\n",
       "      <td>overlooking</td>\n",
       "    </tr>\n",
       "    <tr>\n",
       "      <th>11</th>\n",
       "      <td>it</td>\n",
       "      <td>grounds</td>\n",
       "    </tr>\n",
       "    <tr>\n",
       "      <th>12</th>\n",
       "      <td>was</td>\n",
       "      <td>absolute</td>\n",
       "    </tr>\n",
       "    <tr>\n",
       "      <th>13</th>\n",
       "      <td>excellent</td>\n",
       "      <td>pleasure</td>\n",
       "    </tr>\n",
       "    <tr>\n",
       "      <th>14</th>\n",
       "      <td>.</td>\n",
       "      <td>waitress</td>\n",
       "    </tr>\n",
       "    <tr>\n",
       "      <th>15</th>\n",
       "      <td>the</td>\n",
       "      <td>excellent</td>\n",
       "    </tr>\n",
       "    <tr>\n",
       "      <th>16</th>\n",
       "      <td>weather</td>\n",
       "      <td>arrived</td>\n",
       "    </tr>\n",
       "    <tr>\n",
       "      <th>17</th>\n",
       "      <td>was</td>\n",
       "      <td>quickly</td>\n",
       "    </tr>\n",
       "    <tr>\n",
       "      <th>18</th>\n",
       "      <td>perfect</td>\n",
       "      <td>semibusy</td>\n",
       "    </tr>\n",
       "    <tr>\n",
       "      <th>19</th>\n",
       "      <td>which</td>\n",
       "      <td>saturday</td>\n",
       "    </tr>\n",
       "  </tbody>\n",
       "</table>\n",
       "</div>"
      ],
      "text/plain": [
       "     rawWords   cleanWords\n",
       "0          my         wife\n",
       "1        wife         took\n",
       "2        took     birthday\n",
       "3          me    breakfast\n",
       "4        here    excellent\n",
       "5          on      weather\n",
       "6          my      perfect\n",
       "7    birthday         made\n",
       "8         for      sitting\n",
       "9   breakfast      outside\n",
       "10        and  overlooking\n",
       "11         it      grounds\n",
       "12        was     absolute\n",
       "13  excellent     pleasure\n",
       "14          .     waitress\n",
       "15        the    excellent\n",
       "16    weather      arrived\n",
       "17        was      quickly\n",
       "18    perfect     semibusy\n",
       "19      which     saturday"
      ]
     },
     "execution_count": 28,
     "metadata": {},
     "output_type": "execute_result"
    }
   ],
   "source": [
    "pd.DataFrame({'rawWords': words[:20], 'cleanWords': cleanWords[:20]})"
   ]
  },
  {
   "cell_type": "markdown",
   "metadata": {},
   "source": [
    "### Pre-processing 3: Stemming & Lemmatization"
   ]
  },
  {
   "cell_type": "code",
   "execution_count": 29,
   "metadata": {
    "scrolled": true
   },
   "outputs": [
    {
     "data": {
      "text/html": [
       "<div>\n",
       "<style scoped>\n",
       "    .dataframe tbody tr th:only-of-type {\n",
       "        vertical-align: middle;\n",
       "    }\n",
       "\n",
       "    .dataframe tbody tr th {\n",
       "        vertical-align: top;\n",
       "    }\n",
       "\n",
       "    .dataframe thead th {\n",
       "        text-align: right;\n",
       "    }\n",
       "</style>\n",
       "<table border=\"1\" class=\"dataframe\">\n",
       "  <thead>\n",
       "    <tr style=\"text-align: right;\">\n",
       "      <th></th>\n",
       "      <th>cleanWords</th>\n",
       "      <th>stemmedWords</th>\n",
       "    </tr>\n",
       "  </thead>\n",
       "  <tbody>\n",
       "    <tr>\n",
       "      <th>0</th>\n",
       "      <td>wife</td>\n",
       "      <td>wife</td>\n",
       "    </tr>\n",
       "    <tr>\n",
       "      <th>1</th>\n",
       "      <td>took</td>\n",
       "      <td>took</td>\n",
       "    </tr>\n",
       "    <tr>\n",
       "      <th>2</th>\n",
       "      <td>birthday</td>\n",
       "      <td>birthday</td>\n",
       "    </tr>\n",
       "    <tr>\n",
       "      <th>3</th>\n",
       "      <td>breakfast</td>\n",
       "      <td>breakfast</td>\n",
       "    </tr>\n",
       "    <tr>\n",
       "      <th>4</th>\n",
       "      <td>excellent</td>\n",
       "      <td>excel</td>\n",
       "    </tr>\n",
       "    <tr>\n",
       "      <th>5</th>\n",
       "      <td>weather</td>\n",
       "      <td>weather</td>\n",
       "    </tr>\n",
       "    <tr>\n",
       "      <th>6</th>\n",
       "      <td>perfect</td>\n",
       "      <td>perfect</td>\n",
       "    </tr>\n",
       "    <tr>\n",
       "      <th>7</th>\n",
       "      <td>made</td>\n",
       "      <td>made</td>\n",
       "    </tr>\n",
       "    <tr>\n",
       "      <th>8</th>\n",
       "      <td>sitting</td>\n",
       "      <td>sit</td>\n",
       "    </tr>\n",
       "    <tr>\n",
       "      <th>9</th>\n",
       "      <td>outside</td>\n",
       "      <td>outsid</td>\n",
       "    </tr>\n",
       "  </tbody>\n",
       "</table>\n",
       "</div>"
      ],
      "text/plain": [
       "  cleanWords stemmedWords\n",
       "0       wife         wife\n",
       "1       took         took\n",
       "2   birthday     birthday\n",
       "3  breakfast    breakfast\n",
       "4  excellent        excel\n",
       "5    weather      weather\n",
       "6    perfect      perfect\n",
       "7       made         made\n",
       "8    sitting          sit\n",
       "9    outside       outsid"
      ]
     },
     "execution_count": 29,
     "metadata": {},
     "output_type": "execute_result"
    }
   ],
   "source": [
    "#establish stemmer\n",
    "#from nltk.stem import PorterStemmer\n",
    "stemmer = PorterStemmer()\n",
    "#stem words\n",
    "stemmedWords = [stemmer.stem(w) for w in cleanWords]\n",
    "pd.DataFrame({'cleanWords': cleanWords[:10], 'stemmedWords': stemmedWords[:10]})"
   ]
  },
  {
   "cell_type": "code",
   "execution_count": 30,
   "metadata": {},
   "outputs": [
    {
     "data": {
      "text/plain": [
       "'n'"
      ]
     },
     "execution_count": 30,
     "metadata": {},
     "output_type": "execute_result"
    }
   ],
   "source": [
    "# lambda function to convert pos_tag output to lemmatizer.lemmatize-friendly input ('NN' -> 'n')\n",
    "wnpos = lambda e: ('a' if e[0].lower() == 'j' else e[0].lower()) if e[0].lower() in ['n', 'r', 'v'] else 'n'\n",
    "wnpos('NN')"
   ]
  },
  {
   "cell_type": "code",
   "execution_count": 31,
   "metadata": {
    "scrolled": true
   },
   "outputs": [],
   "source": [
    "#establish lemmatizer\n",
    "#from nltk.stem.wordnet import WordNetLemmatizer\n",
    "lemmatizer = WordNetLemmatizer()\n",
    "#lemmatize words\n",
    "lemWords = [lemmatizer.lemmatize(w, wnpos(pos_tag(w.split())[0][1])) for w in cleanWords]"
   ]
  },
  {
   "cell_type": "code",
   "execution_count": 32,
   "metadata": {},
   "outputs": [
    {
     "data": {
      "text/html": [
       "<div>\n",
       "<style scoped>\n",
       "    .dataframe tbody tr th:only-of-type {\n",
       "        vertical-align: middle;\n",
       "    }\n",
       "\n",
       "    .dataframe tbody tr th {\n",
       "        vertical-align: top;\n",
       "    }\n",
       "\n",
       "    .dataframe thead th {\n",
       "        text-align: right;\n",
       "    }\n",
       "</style>\n",
       "<table border=\"1\" class=\"dataframe\">\n",
       "  <thead>\n",
       "    <tr style=\"text-align: right;\">\n",
       "      <th></th>\n",
       "      <th>cleanWords</th>\n",
       "      <th>stemmedWords</th>\n",
       "      <th>lemWords</th>\n",
       "    </tr>\n",
       "  </thead>\n",
       "  <tbody>\n",
       "    <tr>\n",
       "      <th>0</th>\n",
       "      <td>wife</td>\n",
       "      <td>wife</td>\n",
       "      <td>wife</td>\n",
       "    </tr>\n",
       "    <tr>\n",
       "      <th>1</th>\n",
       "      <td>took</td>\n",
       "      <td>took</td>\n",
       "      <td>take</td>\n",
       "    </tr>\n",
       "    <tr>\n",
       "      <th>2</th>\n",
       "      <td>birthday</td>\n",
       "      <td>birthday</td>\n",
       "      <td>birthday</td>\n",
       "    </tr>\n",
       "    <tr>\n",
       "      <th>3</th>\n",
       "      <td>breakfast</td>\n",
       "      <td>breakfast</td>\n",
       "      <td>breakfast</td>\n",
       "    </tr>\n",
       "    <tr>\n",
       "      <th>4</th>\n",
       "      <td>excellent</td>\n",
       "      <td>excel</td>\n",
       "      <td>excellent</td>\n",
       "    </tr>\n",
       "    <tr>\n",
       "      <th>5</th>\n",
       "      <td>weather</td>\n",
       "      <td>weather</td>\n",
       "      <td>weather</td>\n",
       "    </tr>\n",
       "    <tr>\n",
       "      <th>6</th>\n",
       "      <td>perfect</td>\n",
       "      <td>perfect</td>\n",
       "      <td>perfect</td>\n",
       "    </tr>\n",
       "    <tr>\n",
       "      <th>7</th>\n",
       "      <td>made</td>\n",
       "      <td>made</td>\n",
       "      <td>make</td>\n",
       "    </tr>\n",
       "    <tr>\n",
       "      <th>8</th>\n",
       "      <td>sitting</td>\n",
       "      <td>sit</td>\n",
       "      <td>sit</td>\n",
       "    </tr>\n",
       "    <tr>\n",
       "      <th>9</th>\n",
       "      <td>outside</td>\n",
       "      <td>outsid</td>\n",
       "      <td>outside</td>\n",
       "    </tr>\n",
       "  </tbody>\n",
       "</table>\n",
       "</div>"
      ],
      "text/plain": [
       "  cleanWords stemmedWords   lemWords\n",
       "0       wife         wife       wife\n",
       "1       took         took       take\n",
       "2   birthday     birthday   birthday\n",
       "3  breakfast    breakfast  breakfast\n",
       "4  excellent        excel  excellent\n",
       "5    weather      weather    weather\n",
       "6    perfect      perfect    perfect\n",
       "7       made         made       make\n",
       "8    sitting          sit        sit\n",
       "9    outside       outsid    outside"
      ]
     },
     "execution_count": 32,
     "metadata": {},
     "output_type": "execute_result"
    }
   ],
   "source": [
    "pd.DataFrame({'cleanWords': cleanWords[:10], 'stemmedWords': stemmedWords[:10], 'lemWords': lemWords[:10]})"
   ]
  },
  {
   "cell_type": "code",
   "execution_count": 33,
   "metadata": {},
   "outputs": [],
   "source": [
    "#function to apply all elements of text cleaning\n",
    "def clean_text(document):\n",
    "    #import statements\n",
    "    #from nltk.tokenize import word_tokenize\n",
    "    #from nltk.corpus import stopwords\n",
    "    document = str(document)\n",
    "    docClean = document.replace('\\n', ' ').replace('\\r', '')  ## Newline removal\n",
    "    docClean = \" \".join(x.lower() for x in docClean.split()) ## Lowercase\n",
    "    docClean = expand_contractions(docClean) # expand contractions\n",
    "    docClean = word_tokenize(docClean) #Tokenize\n",
    "    docClean = [w for w in docClean if not w in stopWords] #Drop Stop words\n",
    "    docClean = ' '.join([re.sub(r'\\W+','',w) for w in docClean]) #Remove non alphanumeric chars\n",
    "    docClean = re.sub('  ', ' ', docClean)\n",
    "    \n",
    "    return docClean.strip()"
   ]
  },
  {
   "cell_type": "code",
   "execution_count": 34,
   "metadata": {},
   "outputs": [],
   "source": [
    "df['cleanText'] = df['text'].apply(clean_text)"
   ]
  },
  {
   "cell_type": "markdown",
   "metadata": {},
   "source": [
    "### N-Grams"
   ]
  },
  {
   "cell_type": "code",
   "execution_count": 35,
   "metadata": {},
   "outputs": [],
   "source": [
    "def ngrams(text, maxNGram):\n",
    "    text = text.split(' ')\n",
    "    output = []\n",
    "    for i in range(len(text)-maxNGram+1):\n",
    "        output.append(text[i:i+maxNGram])\n",
    "    \n",
    "    return [' '.join(x) for x in output]\n",
    "\n",
    "def flat_list(x):\n",
    "    return [item for sublist in x for item in sublist]"
   ]
  },
  {
   "cell_type": "code",
   "execution_count": 38,
   "metadata": {},
   "outputs": [],
   "source": [
    "# create unigrams\n",
    "df['unigrams'] = df['cleanText'].apply(lambda x: ngrams(x, 1))\n",
    "# create bigrams\n",
    "df['bigrams'] = df['cleanText'].apply(lambda x: ngrams(x, 2))\n",
    "# create trigrams\n",
    "df['trigrams'] = df['cleanText'].apply(lambda x: ngrams(x, 3))"
   ]
  },
  {
   "cell_type": "code",
   "execution_count": 37,
   "metadata": {},
   "outputs": [
    {
     "data": {
      "text/plain": [
       "s         1936\n",
       "place     1306\n",
       "good      1282\n",
       "great     1017\n",
       "like       959\n",
       "one        805\n",
       "get        765\n",
       "would      681\n",
       "really     663\n",
       "dtype: int64"
      ]
     },
     "execution_count": 37,
     "metadata": {},
     "output_type": "execute_result"
    }
   ],
   "source": [
    "pd.Series(flat_list(df['unigrams'].tolist())).value_counts()[1:10]"
   ]
  },
  {
   "cell_type": "code",
   "execution_count": 41,
   "metadata": {},
   "outputs": [
    {
     "data": {
      "text/plain": [
       "                    173\n",
       "happy hour          133\n",
       "go back             117\n",
       "pretty good          83\n",
       "really good          78\n",
       "great place          70\n",
       "first time           68\n",
       "could nt             68\n",
       "ice cream            64\n",
       "next time            61\n",
       " s                   59\n",
       "love place           57\n",
       "great service        54\n",
       "customer service     53\n",
       "feel like            53\n",
       "come back            50\n",
       "last night           46\n",
       "even though          45\n",
       "s good               45\n",
       "make sure            44\n",
       "dtype: int64"
      ]
     },
     "execution_count": 41,
     "metadata": {},
     "output_type": "execute_result"
    }
   ],
   "source": [
    "pd.Series(flat_list(df['bigrams'].tolist())).value_counts()[0:20]"
   ]
  },
  {
   "cell_type": "code",
   "execution_count": 40,
   "metadata": {},
   "outputs": [
    {
     "data": {
      "text/plain": [
       "sweet potato fries     18\n",
       "would go back          16\n",
       "truth truth truth      16\n",
       "wait go back           13\n",
       "go back try            11\n",
       "great happy hour       11\n",
       "old town scottsdale    10\n",
       "happy hour prices       9\n",
       "one favorite places     9\n",
       "dtype: int64"
      ]
     },
     "execution_count": 40,
     "metadata": {},
     "output_type": "execute_result"
    }
   ],
   "source": [
    "pd.Series(flat_list(df['trigrams'].tolist())).value_counts()[1:10]"
   ]
  },
  {
   "cell_type": "markdown",
   "metadata": {},
   "source": [
    "## Feature Engineering"
   ]
  },
  {
   "cell_type": "markdown",
   "metadata": {
    "ExecuteTime": {
     "end_time": "2019-02-01T23:08:04.438331Z",
     "start_time": "2019-02-01T23:07:46.318097Z"
    }
   },
   "source": [
    "### Sentiment"
   ]
  },
  {
   "cell_type": "code",
   "execution_count": 42,
   "metadata": {
    "ExecuteTime": {
     "end_time": "2019-02-01T23:08:06.274218Z",
     "start_time": "2019-02-01T23:08:04.440337Z"
    }
   },
   "outputs": [],
   "source": [
    "#calculates the sentiment, or polarity of a body of text\n",
    "# Output: sentiment - polarity score, scaled (-1, 1), of a document (higher == more positive)\n",
    "def get_sentiment(document):\n",
    "    try:\n",
    "        #from textblob import TextBlob\n",
    "        #drop non-alpha, keep some punctuation in raw text\n",
    "        document = re.sub('[^a-z0-0\\.?!\\',]', ' ', document.lower())\n",
    "        blob = TextBlob(document.lower())\n",
    "        sentiment = blob.sentiment.polarity\n",
    "        \n",
    "        return sentiment\n",
    "    \n",
    "    except:\n",
    "        return None"
   ]
  },
  {
   "cell_type": "code",
   "execution_count": 44,
   "metadata": {},
   "outputs": [
    {
     "data": {
      "text/plain": [
       "'   this is !!! a      ,   ,,, string'"
      ]
     },
     "execution_count": 44,
     "metadata": {},
     "output_type": "execute_result"
    }
   ],
   "source": [
    "teststring = '<> this is !!! a TEST ,111,,, string'\n",
    "re.sub('[^a-z0-0\\.?!\\',]', ' ', teststring)"
   ]
  },
  {
   "cell_type": "code",
   "execution_count": 45,
   "metadata": {},
   "outputs": [],
   "source": [
    "#apply function to df to calculate sentiment\n",
    "df['sentiment'] = df['text'].apply(get_sentiment)"
   ]
  },
  {
   "cell_type": "code",
   "execution_count": 46,
   "metadata": {},
   "outputs": [
    {
     "data": {
      "text/plain": [
       "count    2000.000000\n",
       "mean        0.246857\n",
       "std         0.207270\n",
       "min        -1.000000\n",
       "25%         0.127798\n",
       "50%         0.231683\n",
       "75%         0.357330\n",
       "max         1.000000\n",
       "Name: sentiment, dtype: float64"
      ]
     },
     "execution_count": 46,
     "metadata": {},
     "output_type": "execute_result"
    }
   ],
   "source": [
    "df['sentiment'].describe()"
   ]
  },
  {
   "cell_type": "code",
   "execution_count": 47,
   "metadata": {},
   "outputs": [
    {
     "data": {
      "text/plain": [
       "<matplotlib.axes._subplots.AxesSubplot at 0x2a071c339c8>"
      ]
     },
     "execution_count": 47,
     "metadata": {},
     "output_type": "execute_result"
    },
    {
     "data": {
      "image/png": "[encoded data removed]",
      "text/plain": [
       "<Figure size 432x288 with 1 Axes>"
      ]
     },
     "metadata": {
      "needs_background": "light"
     },
     "output_type": "display_data"
    }
   ],
   "source": [
    "# visualize with a histogram\n",
    "sns.distplot(df['sentiment'])"
   ]
  },
  {
   "cell_type": "code",
   "execution_count": 48,
   "metadata": {},
   "outputs": [
    {
     "data": {
      "text/plain": [
       "'This was absolutely horrible. I got the supreme pizza with the mystery meats.  I threw it in the trash. I will wait until I get to my destination to eat. Horrible!!!'"
      ]
     },
     "execution_count": 48,
     "metadata": {},
     "output_type": "execute_result"
    }
   ],
   "source": [
    "#Lowest sentiment statement\n",
    "df.text[df.sentiment==min(df.sentiment)].iloc[0]"
   ]
  },
  {
   "cell_type": "code",
   "execution_count": 49,
   "metadata": {},
   "outputs": [
    {
     "data": {
      "text/plain": [
       "'Our server Gary was awesome. Food was amazing...an experience.'"
      ]
     },
     "execution_count": 49,
     "metadata": {},
     "output_type": "execute_result"
    }
   ],
   "source": [
    "#Highest sentiment\n",
    "df.text[df.sentiment==max(df.sentiment)].iloc[0]"
   ]
  },
  {
   "cell_type": "markdown",
   "metadata": {},
   "source": [
    "### Subjectivity"
   ]
  },
  {
   "cell_type": "code",
   "execution_count": 50,
   "metadata": {},
   "outputs": [],
   "source": [
    "#calculates subjectivity, or modality, of a body of text\n",
    "# Output: subjectivity - modality score, scaled (0, 1), of a document (higher == more subjective)\n",
    "def get_subjectivity(document):\n",
    "    #from textblob import TextBlob\n",
    "    try:\n",
    "        #drop non-alpha, keep some punctuation in raw text\n",
    "        document = re.sub('[^a-z0-0\\.?!\\',]', ' ', document.lower())\n",
    "        blob = TextBlob(document.lower())\n",
    "        subjectivity = blob.sentiment.subjectivity\n",
    "        \n",
    "        return subjectivity\n",
    "    \n",
    "    except:\n",
    "        return None"
   ]
  },
  {
   "cell_type": "code",
   "execution_count": 51,
   "metadata": {},
   "outputs": [],
   "source": [
    "#apply function to df to calculate subjectivity\n",
    "df['subjectivity'] = df.text.apply(get_subjectivity)"
   ]
  },
  {
   "cell_type": "code",
   "execution_count": 52,
   "metadata": {},
   "outputs": [
    {
     "data": {
      "text/plain": [
       "count    2000.000000\n",
       "mean        0.559130\n",
       "std         0.123989\n",
       "min         0.000000\n",
       "25%         0.488889\n",
       "50%         0.556667\n",
       "75%         0.629412\n",
       "max         1.000000\n",
       "Name: subjectivity, dtype: float64"
      ]
     },
     "execution_count": 52,
     "metadata": {},
     "output_type": "execute_result"
    }
   ],
   "source": [
    "df['subjectivity'].describe()"
   ]
  },
  {
   "cell_type": "code",
   "execution_count": 53,
   "metadata": {},
   "outputs": [
    {
     "data": {
      "text/plain": [
       "<matplotlib.axes._subplots.AxesSubplot at 0x2a0743e8048>"
      ]
     },
     "execution_count": 53,
     "metadata": {},
     "output_type": "execute_result"
    },
    {
     "data": {
      "image/png": "[encoded data removed]",
      "text/plain": [
       "<Figure size 432x288 with 1 Axes>"
      ]
     },
     "metadata": {
      "needs_background": "light"
     },
     "output_type": "display_data"
    }
   ],
   "source": [
    "# visualize with a histogram\n",
    "sns.distplot(df['subjectivity'])"
   ]
  },
  {
   "cell_type": "code",
   "execution_count": 54,
   "metadata": {},
   "outputs": [
    {
     "data": {
      "text/html": [
       "<div>\n",
       "<style scoped>\n",
       "    .dataframe tbody tr th:only-of-type {\n",
       "        vertical-align: middle;\n",
       "    }\n",
       "\n",
       "    .dataframe tbody tr th {\n",
       "        vertical-align: top;\n",
       "    }\n",
       "\n",
       "    .dataframe thead th {\n",
       "        text-align: right;\n",
       "    }\n",
       "</style>\n",
       "<table border=\"1\" class=\"dataframe\">\n",
       "  <thead>\n",
       "    <tr style=\"text-align: right;\">\n",
       "      <th></th>\n",
       "      <th>text</th>\n",
       "      <th>sentiment</th>\n",
       "      <th>subjectivity</th>\n",
       "    </tr>\n",
       "  </thead>\n",
       "  <tbody>\n",
       "    <tr>\n",
       "      <th>0</th>\n",
       "      <td>My wife took me here on my birthday for breakf...</td>\n",
       "      <td>0.391667</td>\n",
       "      <td>0.646287</td>\n",
       "    </tr>\n",
       "    <tr>\n",
       "      <th>1</th>\n",
       "      <td>I have no idea why some people give bad review...</td>\n",
       "      <td>0.229773</td>\n",
       "      <td>0.638485</td>\n",
       "    </tr>\n",
       "    <tr>\n",
       "      <th>2</th>\n",
       "      <td>love the gyro plate. Rice is so good and I als...</td>\n",
       "      <td>0.600000</td>\n",
       "      <td>0.600000</td>\n",
       "    </tr>\n",
       "    <tr>\n",
       "      <th>3</th>\n",
       "      <td>Rosie, Dakota, and I LOVE Chaparral Dog Park!!...</td>\n",
       "      <td>0.608646</td>\n",
       "      <td>0.700000</td>\n",
       "    </tr>\n",
       "    <tr>\n",
       "      <th>4</th>\n",
       "      <td>General Manager Scott Petello is a good egg!!!...</td>\n",
       "      <td>0.436806</td>\n",
       "      <td>0.788889</td>\n",
       "    </tr>\n",
       "  </tbody>\n",
       "</table>\n",
       "</div>"
      ],
      "text/plain": [
       "                                                text  sentiment  subjectivity\n",
       "0  My wife took me here on my birthday for breakf...   0.391667      0.646287\n",
       "1  I have no idea why some people give bad review...   0.229773      0.638485\n",
       "2  love the gyro plate. Rice is so good and I als...   0.600000      0.600000\n",
       "3  Rosie, Dakota, and I LOVE Chaparral Dog Park!!...   0.608646      0.700000\n",
       "4  General Manager Scott Petello is a good egg!!!...   0.436806      0.788889"
      ]
     },
     "execution_count": 54,
     "metadata": {},
     "output_type": "execute_result"
    }
   ],
   "source": [
    "df[['text', 'sentiment', 'subjectivity']].head()"
   ]
  },
  {
   "cell_type": "code",
   "execution_count": 55,
   "metadata": {},
   "outputs": [
    {
     "data": {
      "text/plain": [
       "'This place is not there anymore.'"
      ]
     },
     "execution_count": 55,
     "metadata": {},
     "output_type": "execute_result"
    }
   ],
   "source": [
    "#Let's find the review with the lowest subjectivity\n",
    "df.text[df.subjectivity==min(df.subjectivity)].iloc[0]"
   ]
  },
  {
   "cell_type": "code",
   "execution_count": 58,
   "metadata": {},
   "outputs": [
    {
     "data": {
      "text/plain": [
       "'Our server Gary was awesome. Food was amazing...an experience.'"
      ]
     },
     "execution_count": 58,
     "metadata": {},
     "output_type": "execute_result"
    }
   ],
   "source": [
    "#Let's find the review with the lowest subjectivity\n",
    "df.text[df.subjectivity==df.subjectivity.max()].iloc[0]"
   ]
  },
  {
   "cell_type": "markdown",
   "metadata": {},
   "source": [
    "#### Scatterplot of Sentiment v. Subjectivity"
   ]
  },
  {
   "cell_type": "code",
   "execution_count": 59,
   "metadata": {},
   "outputs": [
    {
     "data": {
      "text/plain": [
       "Text(0, 0.5, 'Subjectivity')"
      ]
     },
     "execution_count": 59,
     "metadata": {},
     "output_type": "execute_result"
    },
    {
     "data": {
      "image/png": "[encoded data removed]",
      "text/plain": [
       "<Figure size 432x288 with 1 Axes>"
      ]
     },
     "metadata": {
      "needs_background": "light"
     },
     "output_type": "display_data"
    }
   ],
   "source": [
    "# visualize with a scatterplot\n",
    "plt.scatter(df['sentiment'], df['subjectivity'])\n",
    "plt.xlabel('Sentiment')\n",
    "plt.ylabel('Subjectivity')"
   ]
  },
  {
   "cell_type": "markdown",
   "metadata": {},
   "source": [
    "## Readability"
   ]
  },
  {
   "cell_type": "code",
   "execution_count": 60,
   "metadata": {
    "ExecuteTime": {
     "end_time": "2019-02-01T23:12:28.244216Z",
     "start_time": "2019-02-01T23:12:28.031650Z"
    }
   },
   "outputs": [],
   "source": [
    "#functions to calculate number of syllables\n",
    "#cmu dictionary\n",
    "d = cmudict.dict()\n",
    "\n",
    "#function to determine the number of syllables in a word with backup function if word not found in cmu dictionary\n",
    "def nsyl(word):\n",
    "    try:\n",
    "        return [len(list(y for y in x if y[-1].isdigit())) for x in d[word.lower()]]\n",
    "    except KeyError:\n",
    "        #if word not found in cmudict\n",
    "        return syllables(word)\n",
    "\n",
    "#backup function to determine syllables if word not found in cmu dictionary\n",
    "def syllables(word):\n",
    "    count = 0\n",
    "    vowels = 'aeiouy'\n",
    "    word = word.lower()\n",
    "    try:\n",
    "        if word[0] in vowels:\n",
    "            count +=1\n",
    "        for index in range(1,len(word)):\n",
    "            if word[index] in vowels and word[index-1] not in vowels:\n",
    "                count +=1\n",
    "        if word.endswith('e'):\n",
    "            count -= 1\n",
    "        if word.endswith('le'):\n",
    "            count += 1\n",
    "        if count == 0:\n",
    "            count += 1\n",
    "        return count\n",
    "    except IndexError:\n",
    "        return 0"
   ]
  },
  {
   "cell_type": "code",
   "execution_count": 61,
   "metadata": {},
   "outputs": [],
   "source": [
    "#function to calculate total number of words\n",
    "def total_words(document):\n",
    "    #from nltk.tokenize import word_tokenize\n",
    "    words = word_tokenize(document)\n",
    "    return len(words)\n",
    "\n",
    "#function to calculate total number of sentences\n",
    "def total_sentences(document):\n",
    "    #from nltk.tokenize import sent_tokenize\n",
    "    sent = sent_tokenize(document)\n",
    "    return len(sent)"
   ]
  },
  {
   "cell_type": "code",
   "execution_count": 62,
   "metadata": {
    "ExecuteTime": {
     "end_time": "2019-02-01T23:14:15.465671Z",
     "start_time": "2019-02-01T23:14:15.304243Z"
    }
   },
   "outputs": [],
   "source": [
    "# create column for total words\n",
    "df['total_words'] = df['text'].apply(total_words)\n",
    "# create column for total sentences\n",
    "df['total_sentences'] = df['text'].apply(total_sentences)\n",
    "# create column for total syllables\n",
    "df['total_syllables'] = df['text'].apply(nsyl)"
   ]
  },
  {
   "cell_type": "markdown",
   "metadata": {},
   "source": [
    "#### Flesch Reading Ease\n",
    "206.835-1.015\\*(total_words/total_sentences)-84.6*(total_syllables/total_words)"
   ]
  },
  {
   "cell_type": "code",
   "execution_count": 63,
   "metadata": {
    "ExecuteTime": {
     "end_time": "2019-02-01T23:21:55.732835Z",
     "start_time": "2019-02-01T23:21:55.729827Z"
    }
   },
   "outputs": [],
   "source": [
    "#calculate Flesch Reading Ease across the df\n",
    "def FRES(document):\n",
    "    try:\n",
    "        numWord = total_words(document)\n",
    "        numSent = total_sentences(document)\n",
    "        numSyll = nsyl(document)\n",
    "        x = (numWord / numSent)\n",
    "        y = (numSyll / numWord)\n",
    "        FRES = 206.835 - 1.015*(x) - 84.6*(y)\n",
    "        return FRES\n",
    "    except:\n",
    "         return None"
   ]
  },
  {
   "cell_type": "code",
   "execution_count": 64,
   "metadata": {},
   "outputs": [],
   "source": [
    "# apply FRES function\n",
    "df['reading_ease'] = df.text.apply(FRES)"
   ]
  },
  {
   "cell_type": "code",
   "execution_count": 65,
   "metadata": {},
   "outputs": [
    {
     "data": {
      "text/plain": [
       "count    2000.000000\n",
       "mean       80.763519\n",
       "std        14.559663\n",
       "min      -129.025106\n",
       "25%        73.730128\n",
       "50%        80.976288\n",
       "75%        88.623311\n",
       "max       154.939643\n",
       "Name: reading_ease, dtype: float64"
      ]
     },
     "execution_count": 65,
     "metadata": {},
     "output_type": "execute_result"
    }
   ],
   "source": [
    "df['reading_ease'].describe()"
   ]
  },
  {
   "cell_type": "code",
   "execution_count": 67,
   "metadata": {},
   "outputs": [
    {
     "data": {
      "text/plain": [
       "<matplotlib.axes._subplots.AxesSubplot at 0x2a07848f148>"
      ]
     },
     "execution_count": 67,
     "metadata": {},
     "output_type": "execute_result"
    },
    {
     "data": {
      "image/png": "[encoded data removed]",
      "text/plain": [
       "<Figure size 432x288 with 1 Axes>"
      ]
     },
     "metadata": {
      "needs_background": "light"
     },
     "output_type": "display_data"
    }
   ],
   "source": [
    "# visualize with histogram\n",
    "sns.distplot(df['reading_ease'])"
   ]
  },
  {
   "cell_type": "code",
   "execution_count": 71,
   "metadata": {},
   "outputs": [
    {
     "data": {
      "text/plain": [
       "'LOVE the food!!!!'"
      ]
     },
     "execution_count": 71,
     "metadata": {},
     "output_type": "execute_result"
    }
   ],
   "source": [
    "#Lowest reading ease\n",
    "df.text[df.reading_ease==max(df.reading_ease)].iloc[0]"
   ]
  },
  {
   "cell_type": "markdown",
   "metadata": {
    "ExecuteTime": {
     "end_time": "2019-02-01T23:15:16.912478Z",
     "start_time": "2019-02-01T23:15:16.899444Z"
    }
   },
   "source": [
    "#### Flesch-Kincaid Grade\n",
    ".39*(total_words/total_sentences)+11.8*(total_syllables/total_words)-15.59"
   ]
  },
  {
   "cell_type": "code",
   "execution_count": 72,
   "metadata": {
    "ExecuteTime": {
     "end_time": "2019-02-01T23:16:00.607563Z",
     "start_time": "2019-02-01T23:15:40.849451Z"
    }
   },
   "outputs": [],
   "source": [
    "#calculate Flesch-Kincaid grade level across the df\n",
    "def FKR(document):\n",
    "    try:\n",
    "        numWord = total_words(document)\n",
    "        numSent = total_sentences(document)\n",
    "        numSyll = nsyl(document)\n",
    "        x = (numWord / numSent)\n",
    "        y = (numSyll / numWord)\n",
    "        FKR = .39*(x) + 11.8*(y) - 15.59\n",
    "        return FKR\n",
    "    except:\n",
    "        return None"
   ]
  },
  {
   "cell_type": "code",
   "execution_count": 75,
   "metadata": {
    "ExecuteTime": {
     "end_time": "2019-02-01T23:16:25.425570Z",
     "start_time": "2019-02-01T23:16:25.420556Z"
    }
   },
   "outputs": [],
   "source": [
    "# apply FKR function\n",
    "df['grade_level'] = df.text.apply(FKR)"
   ]
  },
  {
   "cell_type": "code",
   "execution_count": 76,
   "metadata": {},
   "outputs": [
    {
     "data": {
      "text/plain": [
       "count    2000.000000\n",
       "mean        6.103638\n",
       "std         3.934446\n",
       "min        -7.482143\n",
       "25%         4.247642\n",
       "50%         5.931285\n",
       "75%         7.598683\n",
       "max        88.725389\n",
       "Name: grade_level, dtype: float64"
      ]
     },
     "execution_count": 76,
     "metadata": {},
     "output_type": "execute_result"
    }
   ],
   "source": [
    "df['grade_level'].describe()"
   ]
  },
  {
   "cell_type": "code",
   "execution_count": 77,
   "metadata": {
    "ExecuteTime": {
     "end_time": "2019-02-01T23:19:13.388638Z",
     "start_time": "2019-02-01T23:19:13.383625Z"
    },
    "scrolled": true
   },
   "outputs": [
    {
     "data": {
      "text/plain": [
       "<matplotlib.axes._subplots.AxesSubplot at 0x2a0771f9bc8>"
      ]
     },
     "execution_count": 77,
     "metadata": {},
     "output_type": "execute_result"
    },
    {
     "data": {
      "image/png": "[encoded data removed]",
      "text/plain": [
       "<Figure size 432x288 with 1 Axes>"
      ]
     },
     "metadata": {
      "needs_background": "light"
     },
     "output_type": "display_data"
    }
   ],
   "source": [
    "# visualize with histogram\n",
    "sns.distplot(df['grade_level'])"
   ]
  },
  {
   "cell_type": "markdown",
   "metadata": {},
   "source": [
    "# Exercises\n",
    "\n",
    "Using the provided _Literature_ dataset, complete the below exercises to conduct an exploratory analysis."
   ]
  },
  {
   "cell_type": "markdown",
   "metadata": {},
   "source": [
    "## Exercise 1"
   ]
  },
  {
   "cell_type": "code",
   "execution_count": null,
   "metadata": {
    "ExecuteTime": {
     "end_time": "2019-02-01T22:54:08.495892Z",
     "start_time": "2019-02-01T22:54:08.474837Z"
    }
   },
   "outputs": [],
   "source": [
    "# Create a corpora and instantiate a Corpus class\n",
    "dfLit = pd.read_csv('Literature.csv')\n",
    "# Print the first document of the Corpus\n"
   ]
  },
  {
   "cell_type": "code",
   "execution_count": null,
   "metadata": {
    "ExecuteTime": {
     "end_time": "2019-02-01T22:54:08.927466Z",
     "start_time": "2019-02-01T22:54:08.921451Z"
    }
   },
   "outputs": [],
   "source": [
    "# how many words are in your corpus? (hint: print the words)\n"
   ]
  },
  {
   "cell_type": "code",
   "execution_count": null,
   "metadata": {
    "ExecuteTime": {
     "end_time": "2019-02-01T22:54:09.383585Z",
     "start_time": "2019-02-01T22:54:09.375561Z"
    }
   },
   "outputs": [],
   "source": [
    "# generate and print the clean text\n"
   ]
  },
  {
   "cell_type": "code",
   "execution_count": null,
   "metadata": {
    "ExecuteTime": {
     "end_time": "2019-02-01T22:54:10.201378Z",
     "start_time": "2019-02-01T22:54:10.197365Z"
    }
   },
   "outputs": [],
   "source": [
    "# print the bigrams of your corpus\n"
   ]
  },
  {
   "cell_type": "markdown",
   "metadata": {},
   "source": [
    "## Exercise 2\n",
    "\n",
    "Find the 10 top occuring words in your corpus and plot them"
   ]
  },
  {
   "cell_type": "code",
   "execution_count": null,
   "metadata": {
    "ExecuteTime": {
     "end_time": "2019-02-01T22:54:11.813885Z",
     "start_time": "2019-02-01T22:54:11.582270Z"
    }
   },
   "outputs": [],
   "source": [
    "# get the top words in the corpus\n",
    "\n",
    "\n",
    "# get just the top 10 words and their counts\n",
    "\n",
    "\n",
    "# create plot of these words and their counts\n"
   ]
  },
  {
   "cell_type": "markdown",
   "metadata": {},
   "source": [
    "## Exercise 3\n",
    "\n",
    "Return a sentiment score from each document"
   ]
  },
  {
   "cell_type": "code",
   "execution_count": null,
   "metadata": {
    "ExecuteTime": {
     "end_time": "2019-02-01T22:54:13.113690Z",
     "start_time": "2019-02-01T22:54:12.821915Z"
    }
   },
   "outputs": [],
   "source": [
    "# get sentiment scores for each document\n"
   ]
  },
  {
   "cell_type": "code",
   "execution_count": null,
   "metadata": {
    "ExecuteTime": {
     "end_time": "2019-02-01T22:54:13.449581Z",
     "start_time": "2019-02-01T22:54:13.278141Z"
    }
   },
   "outputs": [],
   "source": [
    "# plot the sentiment distribution of the documents in the corpus\n"
   ]
  }
 ],
 "metadata": {
  "kernelspec": {
   "display_name": "Python 3",
   "language": "python",
   "name": "python3"
  },
  "language_info": {
   "codemirror_mode": {
    "name": "ipython",
    "version": 3
   },
   "file_extension": ".py",
   "mimetype": "text/x-python",
   "name": "python",
   "nbconvert_exporter": "python",
   "pygments_lexer": "ipython3",
   "version": "3.7.6"
  },
  "toc": {
   "base_numbering": 1,
   "nav_menu": {},
   "number_sections": true,
   "sideBar": true,
   "skip_h1_title": false,
   "title_cell": "Table of Contents",
   "title_sidebar": "Contents",
   "toc_cell": false,
   "toc_position": {
    "height": "758px",
    "left": "958px",
    "top": "146px",
    "width": "384px"
   },
   "toc_section_display": true,
   "toc_window_display": true
  }
 },
 "nbformat": 4,
 "nbformat_minor": 2
}
